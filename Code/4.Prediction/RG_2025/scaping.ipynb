{
 "cells": [
  {
   "cell_type": "markdown",
   "id": "ead21ba5",
   "metadata": {},
   "source": [
    "## Scraping 2025 RG Data"
   ]
  },
  {
   "cell_type": "code",
   "execution_count": null,
   "id": "5887add6",
   "metadata": {},
   "outputs": [
    {
     "name": "stdout",
     "output_type": "stream",
     "text": [
      "Accès à l'URL : https://www.rolandgarros.com/en-us/results/SM?round=1\n",
      "Page chargée\n",
      "<html lang=\"en-us\" data-n-head=\"%7B%22lang%22:%7B%22ssr%22:%22en-us%22%7D%7D\" class=\"light-mode\" style=\"--vh: 4.41px;\"><head><script type=\"text/javascript\" async=\"\" src=\"//fft.commander1.com/getcookie.php?c=TCID&amp;v=tcid\" charset=\"utf-8\" id=\"tc_script_0.04225463437417076\"></script>\n",
      "    <meta data-n-head=\"ssr\" charset=\"utf-8\"><meta data-n-head=\"ssr\" name=\"viewport\" content=\"width=device-width, initial-scale=1, maximum-scale=1\"><meta data-n-head=\"ssr\" name=\"apple-mobile-web-app-capable\" content=\"yes\"><meta data-n-head=\"ssr\" name=\"copyright\" content=\"&amp;copy; Fédération Française de Tennis 1996, 2018. All Rights Reserved.\"><meta data-n-head=\"ssr\" name=\"owner\" content=\"info@rolandgarros.com\"><meta data-n-head=\"ssr\" name=\"Reply-To\" content=\"webmaster@rolandgarros.com\"><meta data-n-head=\"ssr\" name=\"robots\" content=\"index, follow\"><meta data-n-head=\"ssr\" name=\"facebook-domain-verification\" content=\"qk3yzu8pwgsktlusbjfoxslu8e8a7w\"><meta data-n-head=\"ssr\" content=\"Draws - Roland-Garros 2025 - The official site\" name=\"og:title\"><meta data-n-head=\"ssr\" content=\"The exclusive home of Roland-Garros tennis delivering live scores, schedules, draws, players, news, photos, videos and the most complete coverage of The 2025 Roland-Garros Tournament.\" name=\"og:description\"><meta data-n-head=\"ssr\" content=\"The exclusive home of Roland-Garros tennis delivering live scores, schedules, draws, players, news, photos, videos and the most complete coverage of The 2025 Roland-Garros Tournament.\" name=\"description\"><title>Draws - Roland-Garros 2025 - The official site</title><link data-n-head=\"ssr\" rel=\"author\" href=\"/humans.txt\"><link data-n-head=\"ssr\" rel=\"icon\" type=\"image/x-icon\" href=\"/favicon.png\"><link data-n-head=\"ssr\" href=\"https://fonts.googleapis.com/css?family=Open+Sans:300,400,600,700\" rel=\"stylesheet\"><link data-n-head=\"ssr\" rel=\"stylesheet\" type=\"text/css\" href=\"https://duiuhak4urjo2.cloudfront.net/games/rg/sdk/v1.1.2/fsrg-noframe-styles.min.css\"><script data-n-head=\"ssr\" type=\"text/javascript\" src=\"//aka-cdn.adtech.de/dt/common/DAC.js\"></script><script data-n-head=\"ssr\" async=\"\" src=\"https://securepubads.g.doubleclick.net/tag/js/gpt.js\"></script><script data-n-head=\"ssr\" src=\"https://duiuhak4urjo2.cloudfront.net/games/rg/sdk/v1.1.0/fsrg-noframe-sdk.min.js\"></script><script data-n-head=\"ssr\" src=\"https://gaming.rolandgarros.com/fantasy/assets/client/fs-sdk.js\"></script><script data-n-head=\"ssr\" type=\"text/javascript\" src=\"//cdn.tagcommander.com/3288/tc_FFT_9.js\"></script><link rel=\"preload\" href=\"/_nuxt/9ebd163.js\" as=\"script\"><link rel=\"preload\" href=\"/_nuxt/2d871b8.js\" as=\"script\"><link rel=\"preload\" href=\"/_nuxt/f2cdb5d.js\" as=\"script\"><link rel=\"preload\" href=\"/_nuxt/4bf21b9.js\" as=\"script\"><link rel=\"preload\" href=\"/_nuxt/799a842.js\" as=\"script\"><link rel=\"preload\" href=\"/_nuxt/37f6bcb.js\" as=\"script\"><link rel=\"preload\" href=\"/_nuxt/3c9af97.js\" as=\"script\"><style data-vue-ssr-id=\"758cc9b5:0 9dad54be:0 d2cdb8f2:0 f1295dbc:0 00629ab6:0 4f4dd0a5:0 2906da\n",
      "Nombre de matchs trouvés : 0\n",
      "\n",
      "Nombre de lignes dans le DataFrame : 0\n",
      "Empty DataFrame\n",
      "Columns: []\n",
      "Index: []\n",
      "Données exportées avec succès dans 'roland_garros_2025_matchs.csv'\n"
     ]
    }
   ],
   "source": [
    "from selenium import webdriver\n",
    "from selenium.webdriver.chrome.options import Options\n",
    "from selenium.webdriver.common.by import By\n",
    "import pandas as pd\n",
    "import time\n",
    "\n",
    "# Configuration de Selenium\n",
    "options = Options()\n",
    "options.add_argument('--headless')  # Enlève cette ligne si tu veux voir ce que fait le navigateur\n",
    "driver = webdriver.Chrome(options=options)\n",
    "\n",
    "# URL de la page des résultats\n",
    "url = 'https://www.rolandgarros.com/en-us/results/SM?round=1'\n",
    "print(f\"Accès à l'URL : {url}\")\n",
    "driver.get(url)\n",
    "\n",
    "# Attente du chargement\n",
    "time.sleep(5)\n",
    "print(\"Page chargée\")\n",
    "\n",
    "\n",
    "# Juste pour imprimer le HTML visible après chargement\n",
    "print(driver.page_source[:30000])  # Les 3000 premiers caractères\n",
    "\n",
    "# Extraction des blocs de matchs\n",
    "matches = driver.find_elements(By.CLASS_NAME, 'result-match')\n",
    "print(f\"Nombre de matchs trouvés : {len(matches)}\")\n",
    "\n",
    "data = []\n",
    "\n",
    "for i, match in enumerate(matches):\n",
    "    print(f\"\\nTraitement du match #{i + 1}\")\n",
    "    try:\n",
    "        players = match.find_elements(By.CLASS_NAME, 'player-name')\n",
    "        print(f\"  Joueurs trouvés : {[p.text for p in players]}\")\n",
    "        \n",
    "        scores = match.find_elements(By.CLASS_NAME, 'score')\n",
    "        print(f\"  Scores trouvés : {[s.text for s in scores]}\")\n",
    "        \n",
    "        duration_elem = match.find_element(By.CLASS_NAME, 'duration')\n",
    "        court_elem = match.find_element(By.CLASS_NAME, 'court')\n",
    "\n",
    "        player1 = players[0].text if len(players) > 0 else \"?\"\n",
    "        player2 = players[1].text if len(players) > 1 else \"?\"\n",
    "        score = ' '.join([s.text for s in scores])\n",
    "        duration = duration_elem.text\n",
    "        court = court_elem.text\n",
    "\n",
    "        data.append({\n",
    "            'Joueur 1': player1,\n",
    "            'Joueur 2': player2,\n",
    "            'Score': score,\n",
    "            'Durée': duration,\n",
    "            'Court': court\n",
    "        })\n",
    "    except Exception as e:\n",
    "        print(f\"  Erreur : {e}\")\n",
    "        continue\n",
    "\n",
    "driver.quit()\n",
    "\n",
    "# Export CSV\n",
    "df = pd.DataFrame(data)\n",
    "print(f\"\\nNombre de lignes dans le DataFrame : {len(df)}\")\n",
    "print(df.head())\n",
    "df.to_csv('roland_garros_2025_matchs.csv', index=False)\n",
    "print(\"Données exportées avec succès dans 'roland_garros_2025_matchs.csv'\")"
   ]
  }
 ],
 "metadata": {
  "kernelspec": {
   "display_name": "TFM_env",
   "language": "python",
   "name": "python3"
  },
  "language_info": {
   "codemirror_mode": {
    "name": "ipython",
    "version": 3
   },
   "file_extension": ".py",
   "mimetype": "text/x-python",
   "name": "python",
   "nbconvert_exporter": "python",
   "pygments_lexer": "ipython3",
   "version": "3.12.9"
  }
 },
 "nbformat": 4,
 "nbformat_minor": 5
}
