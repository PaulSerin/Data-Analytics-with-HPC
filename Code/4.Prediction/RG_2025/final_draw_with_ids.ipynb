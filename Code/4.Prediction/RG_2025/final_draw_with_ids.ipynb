{
 "cells": [
  {
   "cell_type": "markdown",
   "id": "3fde0819",
   "metadata": {},
   "source": [
    "## Creating a the complete RG 2025 Draw based on the JSON files by rounds and Assigning IDs to Players"
   ]
  },
  {
   "cell_type": "code",
   "execution_count": 1,
   "id": "984bce55",
   "metadata": {},
   "outputs": [],
   "source": [
    "import json\n",
    "import pandas as pd"
   ]
  },
  {
   "cell_type": "code",
   "execution_count": 5,
   "id": "69f079ed",
   "metadata": {},
   "outputs": [],
   "source": [
    "# Step 1: Load both JSON files\n",
    "with open('./roland_garros_2025_round1.json', 'r', encoding='utf-8') as f1:\n",
    "    data_r1 = json.load(f1)\n",
    "\n",
    "with open('./roland_garros_2025_round2.json', 'r', encoding='utf-8') as f2:\n",
    "    data_r2 = json.load(f2)\n",
    "    \n",
    "with open('./roland_garros_2025_round3.json', 'r', encoding='utf-8') as f3:\n",
    "    data_r3 = json.load(f3)\n",
    "    \n",
    "with open('./roland_garros_2025_round4.json', 'r', encoding='utf-8') as f4:\n",
    "    data_r4 = json.load(f4)\n",
    "\n",
    "with open('./roland_garros_2025_final_phases.json', 'r', encoding='utf-8') as f5:\n",
    "    data_r5 = json.load(f5)\n",
    "\n",
    "\n",
    "# Step 2: Load the player ID CSV\n",
    "df_players = pd.read_csv('./PLAYERS_ID.csv')"
   ]
  },
  {
   "cell_type": "code",
   "execution_count": 6,
   "id": "15de9686",
   "metadata": {},
   "outputs": [
    {
     "name": "stdout",
     "output_type": "stream",
     "text": [
      "\n",
      "Final JSON saved to: roland_garros_2025_complete_final.json\n"
     ]
    }
   ],
   "source": [
    "# Step 3: Build normalized name → ID dictionary\n",
    "def make_full_name(row):\n",
    "    return f\"{row['last_name'].strip().upper()} {row['first_name'].strip()}\"\n",
    "\n",
    "df_players['full_name'] = df_players.apply(make_full_name, axis=1)\n",
    "name_to_id = dict(zip(df_players['full_name'], df_players['id']))\n",
    "\n",
    "# Step 4: Normalize player name exactly like in the dict keys\n",
    "def normalize_player_name(name):\n",
    "    parts = name.strip().split(' ', 1)\n",
    "    if len(parts) != 2:\n",
    "        return name.strip().upper()  # fallback\n",
    "    last = parts[0].upper()\n",
    "    first = parts[1].strip()\n",
    "    return f\"{last} {first}\"\n",
    "\n",
    "# Step 5: Assign IDs using normalized name\n",
    "def assign_ids(match):\n",
    "    for key in ['player1', 'player2']:\n",
    "        raw_name = match[key]['name']\n",
    "        norm_name = normalize_player_name(raw_name)\n",
    "        match[key]['id'] = name_to_id.get(norm_name)\n",
    "        if match[key]['id'] is None:\n",
    "            print(f\"[Warning] Player not found: '{raw_name}' → '{norm_name}'\")\n",
    "    return match\n",
    "\n",
    "# Step 6: Process matches\n",
    "matches_r1 = [assign_ids(match) for match in data_r1['matches']]\n",
    "matches_r2 = [assign_ids(match) for match in data_r2['matches']]\n",
    "matches_r3 = [assign_ids(match) for match in data_r3['matches']]\n",
    "matches_r4 = [assign_ids(match) for match in data_r4['matches']]\n",
    "matches_r5 = [assign_ids(match) for match in data_r5['matches']]\n",
    "\n",
    "all_matches = matches_r1 + matches_r2 + matches_r3 + matches_r4 + matches_r5\n",
    "\n",
    "# Step 7: Combine and save\n",
    "combined_data = {\n",
    "    \"tournament\": \"Roland-Garros 2025\",\n",
    "    \"surface\": \"CLAY\",\n",
    "    \"matches\": all_matches\n",
    "}\n",
    "\n",
    "with open('./roland_garros_2025_complete_final.json', 'w', encoding='utf-8') as f:\n",
    "    json.dump(combined_data, f, ensure_ascii=False, indent=2)\n",
    "\n",
    "print(\"\\nFinal JSON saved to: roland_garros_2025_complete_final.json\")"
   ]
  }
 ],
 "metadata": {
  "kernelspec": {
   "display_name": "TFM_env",
   "language": "python",
   "name": "python3"
  },
  "language_info": {
   "codemirror_mode": {
    "name": "ipython",
    "version": 3
   },
   "file_extension": ".py",
   "mimetype": "text/x-python",
   "name": "python",
   "nbconvert_exporter": "python",
   "pygments_lexer": "ipython3",
   "version": "3.12.9"
  }
 },
 "nbformat": 4,
 "nbformat_minor": 5
}
