{
 "cells": [
  {
   "cell_type": "markdown",
   "id": "ead21ba5",
   "metadata": {},
   "source": [
    "## Preprocessing RG 2025 PLAYERS and IDs"
   ]
  },
  {
   "cell_type": "code",
   "execution_count": 3,
   "id": "3ff0327a",
   "metadata": {},
   "outputs": [
    {
     "name": "stdout",
     "output_type": "stream",
     "text": [
      "File successfully saved to: ./PLAYERS_ID.csv\n"
     ]
    },
    {
     "name": "stderr",
     "output_type": "stream",
     "text": [
      "/tmp/ipykernel_48476/3346581139.py:25: DtypeWarning: Columns (7) have mixed types. Specify dtype option on import or set low_memory=False.\n",
      "  atp_players = pd.read_csv(\"../../../Data/players/atp_players.csv\")\n"
     ]
    }
   ],
   "source": [
    "import pandas as pd\n",
    "import json\n",
    "import unicodedata\n",
    "\n",
    "# Step 1: Normalize names (remove accents, upper case)\n",
    "def normalize_name(name):\n",
    "    if not isinstance(name, str):\n",
    "        return \"\"\n",
    "    name = unicodedata.normalize(\"NFKD\", name).encode(\"ASCII\", \"ignore\").decode(\"utf-8\")\n",
    "    return name.upper().strip()\n",
    "\n",
    "# Step 2: Load match data\n",
    "with open(\"./roland_garros_2025_round1.json\", \"r\") as f:\n",
    "    data = json.load(f)\n",
    "matches = data[\"matches\"]\n",
    "\n",
    "# Step 3: Extract all unique player names from matches\n",
    "player_names = set()\n",
    "for match in matches:\n",
    "    player_names.add(normalize_name(match[\"player1\"][\"name\"]))\n",
    "    player_names.add(normalize_name(match[\"player2\"][\"name\"]))\n",
    "players_df = pd.DataFrame(sorted(player_names), columns=[\"name\"])\n",
    "\n",
    "# Step 4: Load ATP base\n",
    "atp_players = pd.read_csv(\"../../../Data/players/atp_players.csv\")\n",
    "atp_players[\"name_first\"] = atp_players[\"name_first\"].fillna(\"\")\n",
    "atp_players[\"name_last\"] = atp_players[\"name_last\"].fillna(\"\")\n",
    "atp_players[\"full_name\"] = (atp_players[\"name_last\"] + \" \" + atp_players[\"name_first\"])\n",
    "atp_players[\"full_name\"] = atp_players[\"full_name\"].apply(normalize_name)\n",
    "\n",
    "# Step 5: Manual players to add (with consistent formatting)\n",
    "manual_ids = {\n",
    "    \"Auger-Aliassime Felix\": (200000, \"Felix\", \"Auger-Aliassime\"),\n",
    "    \"Bu Yunchaokete\": (207352, \"Yunchaokete\", \"Bu\"),\n",
    "    \"Herbert Pierre-Hugues\": (105732, \"Pierre-Hugues\", \"Herbert\"),\n",
    "    \"O'Connell Christopher\": (106331, \"Christopher\", \"O'Connell\"),\n",
    "    \"Gomez Federico\": (666, \"Federico\", \"Gomez\"),\n",
    "    \"Ramos-Vinolas Albert\": (105077, \"Albert\", \"Ramos-Vinolas\"),\n",
    "    \"Struff Jan-Lennard\": (105526, \"Jan-Lennard\", \"Struff\"),\n",
    "}\n",
    "\n",
    "manual_df = pd.DataFrame([\n",
    "    {\"player_id\": id_, \"name_first\": first, \"name_last\": last}\n",
    "    for _, (id_, first, last) in manual_ids.items()\n",
    "])\n",
    "manual_df[\"full_name\"] = (manual_df[\"name_last\"] + \" \" + manual_df[\"name_first\"]).apply(normalize_name)\n",
    "\n",
    "# Step 6: Combine ATP and manual players\n",
    "all_players = pd.concat([atp_players[[\"player_id\", \"name_first\", \"name_last\", \"full_name\"]],\n",
    "                         manual_df[[\"player_id\", \"name_first\", \"name_last\", \"full_name\"]]],\n",
    "                        ignore_index=True)\n",
    "\n",
    "# Step 7: Merge with extracted names\n",
    "merged_df = players_df.merge(\n",
    "    all_players,\n",
    "    left_on=\"name\",\n",
    "    right_on=\"full_name\",\n",
    "    how=\"left\"\n",
    ").drop(columns=[\"full_name\"]).rename(columns={\"player_id\": \"id\"})\n",
    "\n",
    "# Step 8: Final cleanup\n",
    "merged_df[\"id\"] = merged_df[\"id\"].astype(\"Int64\")\n",
    "merged_df = merged_df[[\"name_last\", \"name_first\", \"id\"]].rename(columns={\n",
    "    \"name_last\": \"last_name\",\n",
    "    \"name_first\": \"first_name\"\n",
    "})\n",
    "\n",
    "# Step 9: Save\n",
    "output_path = \"./PLAYERS_ID.csv\"\n",
    "merged_df.to_csv(output_path, index=False)\n",
    "print(f\"File successfully saved to: {output_path}\")\n"
   ]
  }
 ],
 "metadata": {
  "kernelspec": {
   "display_name": "TFM_env",
   "language": "python",
   "name": "python3"
  },
  "language_info": {
   "codemirror_mode": {
    "name": "ipython",
    "version": 3
   },
   "file_extension": ".py",
   "mimetype": "text/x-python",
   "name": "python",
   "nbconvert_exporter": "python",
   "pygments_lexer": "ipython3",
   "version": "3.12.9"
  }
 },
 "nbformat": 4,
 "nbformat_minor": 5
}
