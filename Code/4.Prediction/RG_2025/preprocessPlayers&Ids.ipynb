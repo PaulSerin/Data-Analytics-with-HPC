{
 "cells": [
  {
   "cell_type": "markdown",
   "id": "ead21ba5",
   "metadata": {},
   "source": [
    "## Preprocessing RG 2025 PLAYERS and IDs"
   ]
  },
  {
   "cell_type": "code",
   "execution_count": 15,
   "id": "3ff0327a",
   "metadata": {},
   "outputs": [
    {
     "name": "stdout",
     "output_type": "stream",
     "text": [
      "File successfully saved to: ./PLAYERS_ID.csv\n"
     ]
    },
    {
     "name": "stderr",
     "output_type": "stream",
     "text": [
      "/tmp/ipykernel_93711/4177423892.py:27: DtypeWarning: Columns (7) have mixed types. Specify dtype option on import or set low_memory=False.\n",
      "  atp_players = pd.read_csv(\"../../../Data/players/atp_players.csv\")\n"
     ]
    }
   ],
   "source": [
    "import pandas as pd\n",
    "import json\n",
    "import unicodedata\n",
    "\n",
    "# Function to normalize names: remove accents, convert to uppercase, and strip whitespace\n",
    "def normalize_name(name):\n",
    "    if not isinstance(name, str):\n",
    "        return \"\"\n",
    "    name = unicodedata.normalize(\"NFKD\", name).encode(\"ASCII\", \"ignore\").decode(\"utf-8\")\n",
    "    return name.upper().strip()\n",
    "\n",
    "# Load JSON file containing the match data\n",
    "with open(\"./roland_garros_2025_round1.json\", \"r\") as f:\n",
    "    data = json.load(f)\n",
    "matches = data[\"matches\"]\n",
    "\n",
    "# Extract player names from all matches and normalize them\n",
    "player_names = set()\n",
    "for match in matches:\n",
    "    player_names.add(normalize_name(match[\"player1\"][\"name\"]))\n",
    "    player_names.add(normalize_name(match[\"player2\"][\"name\"]))\n",
    "\n",
    "# Create a DataFrame from the normalized player names\n",
    "players_df = pd.DataFrame(sorted(player_names), columns=[\"name\"])\n",
    "\n",
    "# Load the ATP players file and prepare a normalized full name column\n",
    "atp_players = pd.read_csv(\"../../../Data/players/atp_players.csv\")\n",
    "atp_players[\"name_first\"] = atp_players[\"name_first\"].fillna(\"\")\n",
    "atp_players[\"name_last\"] = atp_players[\"name_last\"].fillna(\"\")\n",
    "atp_players[\"full_name\"] = (atp_players[\"name_last\"] + \" \" + atp_players[\"name_first\"]).apply(normalize_name)\n",
    "\n",
    "# Merge the player names with ATP player IDs based on normalized full names\n",
    "merged_df = players_df.merge(\n",
    "    atp_players[[\"player_id\", \"name_first\", \"name_last\", \"full_name\"]],\n",
    "    left_on=\"name\",\n",
    "    right_on=\"full_name\",\n",
    "    how=\"left\"\n",
    ").drop(columns=[\"full_name\"]).rename(columns={\"player_id\": \"id\"})\n",
    "\n",
    "# Manually assign missing IDs for players not matched from the ATP file\n",
    "manual_ids = {\n",
    "    \"AUGER-ALIASSIME FELIX\": (200000, \"FELIX\", \"AUGER-ALIASSIME\"),\n",
    "    \"BU YUNCHAOKETE\": (207352, \"YUNCHAOKETE\", \"BU\"),\n",
    "    \"HERBERT PIERRE-HUGUES\": (105732, \"PIERRE-HUGUES\", \"HERBERT\"),\n",
    "    \"O'CONNELL CHRISTOPHER\": (106331, \"CHRISTOPHER\", \"O'CONNELL\"),\n",
    "    \"GOMEZ FEDERICO\": (666, \"FEDERICO\", \"GOMEZ\"),\n",
    "    \"RAMOS-VINOLAS ALBERT\": (105077, \"ALBERT\", \"RAMOS-VINOLAS\"),\n",
    "    \"STRUFF JAN-LENNARD\": (105526, \"JAN-LENNARD\", \"STRUFF\"),\n",
    "}\n",
    "\n",
    "# Apply manual corrections to the DataFrame\n",
    "for name, (id_value, first, last) in manual_ids.items():\n",
    "    idx = merged_df[\"name\"] == name\n",
    "    merged_df.loc[idx, \"id\"] = id_value\n",
    "    merged_df.loc[idx, \"name_first\"] = first\n",
    "    merged_df.loc[idx, \"name_last\"] = last\n",
    "\n",
    "# Final cleanup: set proper column names and types\n",
    "merged_df[\"id\"] = merged_df[\"id\"].astype(\"Int64\")\n",
    "merged_df = merged_df[[\"name_last\", \"name_first\", \"id\"]].rename(columns={\n",
    "    \"name_last\": \"last_name\",\n",
    "    \"name_first\": \"first_name\"\n",
    "})\n",
    "\n",
    "# Export the cleaned player data to a CSV file\n",
    "output_path = \"./PLAYERS_ID.csv\"\n",
    "merged_df.to_csv(output_path, index=False)\n",
    "print(f\"File successfully saved to: {output_path}\")\n"
   ]
  }
 ],
 "metadata": {
  "kernelspec": {
   "display_name": "TFM_env",
   "language": "python",
   "name": "python3"
  },
  "language_info": {
   "codemirror_mode": {
    "name": "ipython",
    "version": 3
   },
   "file_extension": ".py",
   "mimetype": "text/x-python",
   "name": "python",
   "nbconvert_exporter": "python",
   "pygments_lexer": "ipython3",
   "version": "3.12.9"
  }
 },
 "nbformat": 4,
 "nbformat_minor": 5
}
