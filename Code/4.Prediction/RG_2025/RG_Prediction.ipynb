{
 "cells": [
  {
   "cell_type": "markdown",
   "id": "6c19ddf2",
   "metadata": {},
   "source": [
    "## Rolland Garros Prediction"
   ]
  },
  {
   "cell_type": "code",
   "execution_count": 2,
   "id": "7d144491",
   "metadata": {},
   "outputs": [
    {
     "name": "stdout",
     "output_type": "stream",
     "text": [
      "\n",
      "Roland-Garros 2025 – Evaluated 108 matches; overall accuracy: 71.30%\n",
      "\n",
      "Accuracy by round:\n",
      "  1st Round: 73.77% (45/61)\n",
      "  2nd Round: 58.06% (18/31)\n",
      "  3rd Round: 87.50% (14/16)\n"
     ]
    }
   ],
   "source": [
    "import json\n",
    "import pandas as pd\n",
    "from pathlib import Path\n",
    "import sys\n",
    "from importlib.machinery import SourceFileLoader\n",
    "\n",
    "# === CONFIGURATION ===\n",
    "HERE = Path.cwd()\n",
    "PROJECT_ROOT = HERE.parents[2]\n",
    "\n",
    "JSON_PATH    = PROJECT_ROOT / \"Code\" / \"4.Prediction\" / \"RG_2025\" / \"roland_garros_2025_complete_final.json\"\n",
    "PARQUET_PATH = PROJECT_ROOT / \"Datasets\" / \"final_tennis_dataset_symmetric.parquet\"\n",
    "MODEL_PATH   = PROJECT_ROOT / \"Models\"   / \"xgb_model.json\"\n",
    "CUTOFF_DATE  = '2025-05-01'\n",
    "\n",
    "# === LOAD UTILS ===\n",
    "utils_folder = PROJECT_ROOT / \"Code\" / \"0.Utils\"\n",
    "sys.path.insert(0, str(utils_folder))\n",
    "import utils\n",
    "\n",
    "# === LOAD DATA ===\n",
    "with open(JSON_PATH, 'r', encoding='utf-8') as f:\n",
    "    tournament = json.load(f)\n",
    "surface = tournament['surface']\n",
    "\n",
    "global_df, surface_dfs = utils.get_latest_features_by_surface(PARQUET_PATH, CUTOFF_DATE)\n",
    "model = utils.load_trained_model(MODEL_PATH)\n",
    "\n",
    "# === EVALUATE MATCHES ===\n",
    "records = []\n",
    "accuracy_by_round = {}\n",
    "\n",
    "for match in tournament['matches']:\n",
    "    match_id = match['match_id']\n",
    "    round_name = match.get('round', 'Unknown')\n",
    "    p1_id = match['player1']['id']\n",
    "    p2_id = match['player2']['id']\n",
    "    p1_name = match['player1']['name']\n",
    "    p2_name = match['player2']['name']\n",
    "    actual_outcome = match['outcome']\n",
    "\n",
    "    if p1_id is None or p2_id is None or actual_outcome is None:\n",
    "        continue\n",
    "\n",
    "    try:\n",
    "        prob_p1 = utils.predict_match(p1_id, p2_id, surface, model, global_df, surface_dfs)\n",
    "    except KeyError:\n",
    "        continue\n",
    "\n",
    "    predicted = 'player1' if prob_p1 >= 0.5 else 'player2'\n",
    "    is_correct = int(predicted == actual_outcome)\n",
    "\n",
    "    records.append({\n",
    "        'match_id': match_id,\n",
    "        'round': round_name,\n",
    "        'player1': p1_name,\n",
    "        'player2': p2_name,\n",
    "        'prob_p1': prob_p1,\n",
    "        'pred': predicted,\n",
    "        'actual': actual_outcome,\n",
    "        'correct': is_correct\n",
    "    })\n",
    "\n",
    "    stats = accuracy_by_round.setdefault(round_name, {'total': 0, 'correct': 0})\n",
    "    stats['total'] += 1\n",
    "    stats['correct'] += is_correct\n",
    "\n",
    "# === REPORT ===\n",
    "df_results = pd.DataFrame(records)\n",
    "\n",
    "if not df_results.empty:\n",
    "    overall_accuracy = df_results['correct'].mean()\n",
    "    print(f\"\\nRoland-Garros 2025 – Evaluated {len(df_results)} matches; overall accuracy: {overall_accuracy:.2%}\\n\")\n",
    "else:\n",
    "    print(\"\\nNo matches could be evaluated.\\n\")\n",
    "\n",
    "print(\"Accuracy by round:\")\n",
    "for round_name, stats in accuracy_by_round.items():\n",
    "    accuracy = stats['correct'] / stats['total']\n",
    "    print(f\"  {round_name}: {accuracy:.2%} ({stats['correct']}/{stats['total']})\")\n"
   ]
  }
 ],
 "metadata": {
  "kernelspec": {
   "display_name": "TFM_env",
   "language": "python",
   "name": "python3"
  },
  "language_info": {
   "codemirror_mode": {
    "name": "ipython",
    "version": 3
   },
   "file_extension": ".py",
   "mimetype": "text/x-python",
   "name": "python",
   "nbconvert_exporter": "python",
   "pygments_lexer": "ipython3",
   "version": "3.12.9"
  }
 },
 "nbformat": 4,
 "nbformat_minor": 5
}
